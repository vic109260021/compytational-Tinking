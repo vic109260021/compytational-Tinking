{
  "nbformat": 4,
  "nbformat_minor": 0,
  "metadata": {
    "colab": {
      "name": "鄭盛元week 11",
      "provenance": [],
      "authorship_tag": "ABX9TyM1iBJADC0aIPmOB5e295Ok",
      "include_colab_link": true
    },
    "kernelspec": {
      "name": "python3",
      "display_name": "Python 3"
    }
  },
  "cells": [
    {
      "cell_type": "markdown",
      "metadata": {
        "id": "view-in-github",
        "colab_type": "text"
      },
      "source": [
        "<a href=\"https://colab.research.google.com/github/vic109260021/compytational-Tinking/blob/master/%E9%84%AD%E7%9B%9B%E5%85%83week_11.ipynb\" target=\"_parent\"><img src=\"https://colab.research.google.com/assets/colab-badge.svg\" alt=\"Open In Colab\"/></a>"
      ]
    },
    {
      "cell_type": "code",
      "metadata": {
        "id": "EPQzXxvrZrSn"
      },
      "source": [
        ""
      ],
      "execution_count": null,
      "outputs": []
    },
    {
      "cell_type": "markdown",
      "metadata": {
        "id": "9Jq9b-O9aa0I"
      },
      "source": [
        "分組"
      ]
    },
    {
      "cell_type": "code",
      "metadata": {
        "colab": {
          "base_uri": "https://localhost:8080/"
        },
        "id": "tRs_klpGacli",
        "outputId": "64ae3602-7604-41c9-97f3-4ff0fa8ff452"
      },
      "source": [
        "#聊天機器人\n",
        "print(\"哈囉,大家好,我叫01,是一個聊天機器人\")\n",
        "hobby=\"我喜歡美食,也喜歡養動物,很高興來世新大學,請大家多多指教\"\n",
        "print(hobby)"
      ],
      "execution_count": 16,
      "outputs": [
        {
          "output_type": "stream",
          "text": [
            "哈囉,大家好,我叫01,是一個聊天機器人\n",
            "我喜歡美食,也喜歡養動物,很高興來世新大學,請大家多多指教\n"
          ],
          "name": "stdout"
        }
      ]
    },
    {
      "cell_type": "markdown",
      "metadata": {
        "id": "vAzWeqmBik4b"
      },
      "source": [
        ""
      ]
    },
    {
      "cell_type": "code",
      "metadata": {
        "colab": {
          "base_uri": "https://localhost:8080/"
        },
        "id": "m0EYAqyteOtK",
        "outputId": "f5022db2-34eb-4ada-cd07-db835c632883"
      },
      "source": [
        "#打招呼,取得對方名字\n",
        "name=input(\"嗨!你好,請問大名?\")\n",
        "print(\"我叫\",name)\n",
        "print(\"你好\",name,\"很高興認識你\")"
      ],
      "execution_count": 14,
      "outputs": [
        {
          "output_type": "stream",
          "text": [
            "嗨!你好,請問大名?1\n",
            "我叫 1\n",
            "你好 1 很高興認識你\n"
          ],
          "name": "stdout"
        }
      ]
    },
    {
      "cell_type": "code",
      "metadata": {
        "colab": {
          "base_uri": "https://localhost:8080/"
        },
        "id": "b1F-q57Xk44w",
        "outputId": "db3c4fa5-9316-4501-cb29-0ba857cd910d"
      },
      "source": [
        "#從使用者取得今年年分\n",
        "year=input(\"請問一下今年是西元2020年,那是民國幾年呢?\")\n",
        "print(\"對!應該沒錯,謝謝你!\")"
      ],
      "execution_count": 15,
      "outputs": [
        {
          "output_type": "stream",
          "text": [
            "請問一下今年是西元2020年,那是民國幾年呢?109\n",
            "對!應該沒錯,謝謝你!\n"
          ],
          "name": "stdout"
        }
      ]
    },
    {
      "cell_type": "code",
      "metadata": {
        "colab": {
          "base_uri": "https://localhost:8080/"
        },
        "id": "dPfcGAYImWfN",
        "outputId": "a994619f-793a-44d8-faa9-5265f04b5def"
      },
      "source": [
        "#請使用者猜年齡\n",
        "myage=int(input(\"再猜猜看我今年幾歲?\"))\n",
        "print(\"哇!你好聰明,我今年的確\",myage)"
      ],
      "execution_count": 18,
      "outputs": [
        {
          "output_type": "stream",
          "text": [
            "再猜猜看我今年幾歲?26\n",
            "哇!你好聰明,我今年的確 26\n"
          ],
          "name": "stdout"
        }
      ]
    },
    {
      "cell_type": "code",
      "metadata": {
        "colab": {
          "base_uri": "https://localhost:8080/"
        },
        "id": "TUStbplVm5Ml",
        "outputId": "836d241f-ced9-4d91-d284-217c9d4b5304"
      },
      "source": [
        "#計算聊天機器人滿100歲的年份\n",
        "nyears=100-myage\n",
        "print(\"我再\",nyears,\"年就滿100歲了\")\n",
        "print(\"到時候是西元\",int(year)+nyears+1911,\"年\")"
      ],
      "execution_count": 21,
      "outputs": [
        {
          "output_type": "stream",
          "text": [
            "我再 74 年就滿100歲了\n",
            "到時候是西元 2094 年\n"
          ],
          "name": "stdout"
        }
      ]
    },
    {
      "cell_type": "code",
      "metadata": {
        "colab": {
          "base_uri": "https://localhost:8080/"
        },
        "id": "ZR-eS_IqoePG",
        "outputId": "17a691dc-fd5d-4e99-970d-4fc1d21a5651"
      },
      "source": [
        "#食物話題\n",
        "print(\"我喜歡吃蛋糕,也喜歡嘗試各種新食物\")\n",
        "food=input(\"你呢,你最喜歡的食物是甚麼?\")\n",
        "print(\"我也喜歡\",food)\n",
        "question=\"你多久吃一次\"+food+\"?:\"\n",
        "howoften=input(question)\n",
        "print(\"真有趣,不知道照樣對健康好不好!\")"
      ],
      "execution_count": 22,
      "outputs": [
        {
          "output_type": "stream",
          "text": [
            "我喜歡吃蛋糕,也喜歡嘗試各種新食物\n",
            "你呢,你最喜歡的食物是甚麼?巧克力\n",
            "我也喜歡 巧克力\n"
          ],
          "name": "stdout"
        }
      ]
    },
    {
      "cell_type": "code",
      "metadata": {
        "colab": {
          "base_uri": "https://localhost:8080/"
        },
        "id": "GGOzoMkTpQ34",
        "outputId": "ce05ccc5-0a86-4c70-8ca4-e68e8f3507cd"
      },
      "source": [
        "# 動物話題\n",
        "animal = input(\"我最喜歡的動物是長頸鹿。你呢?; \")\n",
        "print(\"我不喜歡\", animal)\n",
        "print(\"不知道\", animal, \"喜不喜歡吃\", food, \"?\")"
      ],
      "execution_count": 25,
      "outputs": [
        {
          "output_type": "stream",
          "text": [
            "我最喜歡的動物是長頸鹿。你呢?; 大象\n",
            "我不喜歡 大象\n",
            "不知道 大象 喜不喜歡吃 巧克力 ?\n"
          ],
          "name": "stdout"
        }
      ]
    },
    {
      "cell_type": "code",
      "metadata": {
        "colab": {
          "base_uri": "https://localhost:8080/"
        },
        "id": "x7kby2ZKsZLT",
        "outputId": "a9605217-9b50-472c-c8d2-f6817efc2046"
      },
      "source": [
        "# 關於心情的對話\n",
        "feeling = input(\"你今天心情如何?; \")\n",
        "print(\"告訴我你現在\", feeling, \"的原因。 \")\n",
        "reason = input(\"為什麼: \")\n",
        "print(\"我知道了。謝謝分享。\")"
      ],
      "execution_count": 26,
      "outputs": [
        {
          "output_type": "stream",
          "text": [
            "你今天心情如何?; 不錯\n",
            "告訴我你現在 不錯 的原因。 \n",
            "為什麼: 沒甚麼事情\n",
            "我知道了。謝謝分享。\n"
          ],
          "name": "stdout"
        }
      ]
    },
    {
      "cell_type": "code",
      "metadata": {
        "colab": {
          "base_uri": "https://localhost:8080/"
        },
        "id": "GofuBF8WsbAQ",
        "outputId": "a1c7298a-c405-4c0b-800e-413fb0be8ce6"
      },
      "source": [
        "# 道別\n",
        "print(\"今天事情真多!我累了,下次再聊。\")\n",
        "print(\"再見\", name, \"我喜歡跟你聊天!\")"
      ],
      "execution_count": 27,
      "outputs": [
        {
          "output_type": "stream",
          "text": [
            "今天事情真多!我累了,下次再聊。\n",
            "再見 1 我喜歡跟你聊天!\n"
          ],
          "name": "stdout"
        }
      ]
    }
  ]
}