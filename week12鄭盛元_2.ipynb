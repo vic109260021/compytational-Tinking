{
  "nbformat": 4,
  "nbformat_minor": 0,
  "metadata": {
    "colab": {
      "name": "week12鄭盛元.2",
      "provenance": [],
      "authorship_tag": "ABX9TyMSz2Ybm/PYZnalNWDXq/6G",
      "include_colab_link": true
    },
    "kernelspec": {
      "name": "python3",
      "display_name": "Python 3"
    }
  },
  "cells": [
    {
      "cell_type": "markdown",
      "metadata": {
        "id": "view-in-github",
        "colab_type": "text"
      },
      "source": [
        "<a href=\"https://colab.research.google.com/github/vic109260021/compytational-Tinking/blob/master/week12%E9%84%AD%E7%9B%9B%E5%85%83_2.ipynb\" target=\"_parent\"><img src=\"https://colab.research.google.com/assets/colab-badge.svg\" alt=\"Open In Colab\"/></a>"
      ]
    },
    {
      "cell_type": "code",
      "metadata": {
        "colab": {
          "base_uri": "https://localhost:8080/"
        },
        "id": "2S7xFnD_hNvm",
        "outputId": "281d6eac-05f6-4933-8997-81a4a88b2545"
      },
      "source": [
        "season=\"2015-2016\"\n",
        "team=\"Golden State Warriors\"\n",
        "coach=\"Steve Kerr\"\n",
        "records=[73,9]\n",
        "starting=[\"Alexander Klay Thompson\",\"Draymond Jamal Green Sr\",\"Andre Tyler Iguodala\",\"Wardell Stephen Curry II \",\"Harrison Bryce Jordan Barnes\"]\n",
        "champion= False\n",
        "best_NBA=list((season,team,coach,records,starting,champion))\n",
        "print(best_NBA)\n",
        "print(type(best_NBA))\n",
        "print(best_NBA[-2])\n",
        "print(best_NBA[0:3])"
      ],
      "execution_count": 4,
      "outputs": [
        {
          "output_type": "stream",
          "text": [
            "['2015-2016', 'Golden State Warriors', 'Steve Kerr', [73, 9], ['Alexander Klay Thompson', 'Draymond Jamal Green Sr', 'Andre Tyler Iguodala', 'Wardell Stephen Curry II ', 'Harrison Bryce Jordan Barnes'], False]\n",
            "<class 'list'>\n",
            "['Alexander Klay Thompson', 'Draymond Jamal Green Sr', 'Andre Tyler Iguodala', 'Wardell Stephen Curry II ', 'Harrison Bryce Jordan Barnes']\n",
            "['2015-2016', 'Golden State Warriors', 'Steve Kerr']\n"
          ],
          "name": "stdout"
        }
      ]
    }
  ]
}