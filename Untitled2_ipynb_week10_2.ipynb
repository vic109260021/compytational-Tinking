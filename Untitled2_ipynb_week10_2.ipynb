{
  "nbformat": 4,
  "nbformat_minor": 0,
  "metadata": {
    "colab": {
      "name": "Untitled2.ipynb week10.2",
      "provenance": [],
      "authorship_tag": "ABX9TyNyAsqLR7T+Zrvk/oev90Xp",
      "include_colab_link": true
    },
    "kernelspec": {
      "name": "python3",
      "display_name": "Python 3"
    }
  },
  "cells": [
    {
      "cell_type": "markdown",
      "metadata": {
        "id": "view-in-github",
        "colab_type": "text"
      },
      "source": [
        "<a href=\"https://colab.research.google.com/github/vic109260021/compytational-Tinking/blob/master/Untitled2_ipynb_week10_2.ipynb\" target=\"_parent\"><img src=\"https://colab.research.google.com/assets/colab-badge.svg\" alt=\"Open In Colab\"/></a>"
      ]
    },
    {
      "cell_type": "code",
      "metadata": {
        "colab": {
          "base_uri": "https://localhost:8080/"
        },
        "id": "lcWy0IedhZwl",
        "outputId": "6273e82c-bf9b-4b1f-c7ce-c90131889fb2"
      },
      "source": [
        "time=123\n",
        "hour=time//60\n",
        "minute=time%60\n",
        "print(time,\"分鐘\",\"是\",hour,\"小時\",minute,\"分鐘\")\n",
        "hour_1=int(time/60)\n",
        "minute_1=((time/60)-hour_1)*60\n",
        "import math\n",
        "minute_l=round(minute_1)\n",
        "print(time,\"分鐘\"\"是\",hour_1,\"小時\",minute_1,\"分鐘\")"
      ],
      "execution_count": 8,
      "outputs": [
        {
          "output_type": "stream",
          "text": [
            "123 分鐘 是 2 小時 3 分鐘\n",
            "123 分鐘是 2 小時 2.9999999999999893 分鐘\n"
          ],
          "name": "stdout"
        }
      ]
    },
    {
      "cell_type": "code",
      "metadata": {
        "id": "nKDTP0E1kq2_"
      },
      "source": [
        ""
      ],
      "execution_count": null,
      "outputs": []
    },
    {
      "cell_type": "code",
      "metadata": {
        "id": "XSvrl-NIjqgP"
      },
      "source": [
        ""
      ],
      "execution_count": null,
      "outputs": []
    }
  ]
}