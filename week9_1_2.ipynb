{
  "nbformat": 4,
  "nbformat_minor": 0,
  "metadata": {
    "colab": {
      "name": "week9-1.2",
      "provenance": [],
      "authorship_tag": "ABX9TyNN6fu628qyEuAc24wBY4X4",
      "include_colab_link": true
    },
    "kernelspec": {
      "name": "python3",
      "display_name": "Python 3"
    }
  },
  "cells": [
    {
      "cell_type": "markdown",
      "metadata": {
        "id": "view-in-github",
        "colab_type": "text"
      },
      "source": [
        "<a href=\"https://colab.research.google.com/github/vic109260021/compytational-Tinking/blob/master/week9_1_2.ipynb\" target=\"_parent\"><img src=\"https://colab.research.google.com/assets/colab-badge.svg\" alt=\"Open In Colab\"/></a>"
      ]
    },
    {
      "cell_type": "code",
      "metadata": {
        "id": "akI0fL77ms60",
        "outputId": "2cbf3a9f-9f72-4df2-adf4-cd32d7f5910c",
        "colab": {
          "base_uri": "https://localhost:8080/"
        }
      },
      "source": [
        "cans=int(input(\"請輸入購買飲料數量?\"))\n"
      ],
      "execution_count": 45,
      "outputs": [
        {
          "output_type": "stream",
          "text": [
            "請輸入購買飲料數量?30\n"
          ],
          "name": "stdout"
        }
      ]
    },
    {
      "cell_type": "code",
      "metadata": {
        "id": "IgFtu_iPm0R4"
      },
      "source": [
        "total=(cans//12)*200+(cans%12)*20"
      ],
      "execution_count": 46,
      "outputs": []
    },
    {
      "cell_type": "code",
      "metadata": {
        "id": "iqehKjWKm3L3",
        "outputId": "c0d5fd4a-ca79-4630-ee78-4266a8bb15a9",
        "colab": {
          "base_uri": "https://localhost:8080/"
        }
      },
      "source": [
        "print(\"需花費?\",total)\n",
        "\n"
      ],
      "execution_count": 47,
      "outputs": [
        {
          "output_type": "stream",
          "text": [
            "需花費? 520\n"
          ],
          "name": "stdout"
        }
      ]
    }
  ]
}