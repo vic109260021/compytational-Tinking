{
  "nbformat": 4,
  "nbformat_minor": 0,
  "metadata": {
    "colab": {
      "name": "Untitled3.ipynb  week10.2",
      "provenance": [],
      "authorship_tag": "ABX9TyNeThStDg/atdI/84iCyA25",
      "include_colab_link": true
    },
    "kernelspec": {
      "name": "python3",
      "display_name": "Python 3"
    }
  },
  "cells": [
    {
      "cell_type": "markdown",
      "metadata": {
        "id": "view-in-github",
        "colab_type": "text"
      },
      "source": [
        "<a href=\"https://colab.research.google.com/github/vic109260021/compytational-Tinking/blob/master/Untitled3_ipynb_week10_2.ipynb\" target=\"_parent\"><img src=\"https://colab.research.google.com/assets/colab-badge.svg\" alt=\"Open In Colab\"/></a>"
      ]
    },
    {
      "cell_type": "code",
      "metadata": {
        "colab": {
          "base_uri": "https://localhost:8080/"
        },
        "id": "zAKGVi8spILU",
        "outputId": "4e3c6186-78cb-428c-978d-2b5d3245ef77"
      },
      "source": [
        "time=123\n",
        "hour=time//60\n",
        "minute=time%60\n",
        "print(time,\"分鐘\",\"是\",hour,\"小時\",minute,\"分鐘\")\n",
        "hour_1=int(time/60)\n",
        "minute_1=((time/60)-hour_1)*60\n",
        "import math\n",
        "minute_1=round(minute_1)\n",
        "print(time,\"分鐘\",\"是\",hour_1,\"小時\",minute_1,\"分鐘\")"
      ],
      "execution_count": 2,
      "outputs": [
        {
          "output_type": "stream",
          "text": [
            "123 分鐘 是 2 小時 3 分鐘\n",
            "123 分鐘 是 2 小時 3 分鐘\n"
          ],
          "name": "stdout"
        }
      ]
    }
  ]
}