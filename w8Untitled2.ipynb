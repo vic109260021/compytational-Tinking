{
  "nbformat": 4,
  "nbformat_minor": 0,
  "metadata": {
    "colab": {
      "name": "w8Untitled2.ipynb",
      "provenance": [],
      "authorship_tag": "ABX9TyOQVQsY1tM/6S89FhkI9Z17",
      "include_colab_link": true
    },
    "kernelspec": {
      "name": "python3",
      "display_name": "Python 3"
    }
  },
  "cells": [
    {
      "cell_type": "markdown",
      "metadata": {
        "id": "view-in-github",
        "colab_type": "text"
      },
      "source": [
        "<a href=\"https://colab.research.google.com/github/vic109260021/compytational-Tinking/blob/master/w8Untitled2.ipynb\" target=\"_parent\"><img src=\"https://colab.research.google.com/assets/colab-badge.svg\" alt=\"Open In Colab\"/></a>"
      ]
    },
    {
      "cell_type": "code",
      "metadata": {
        "id": "dqRDDWbtmI9p",
        "outputId": "c8bd3b98-3519-4204-c646-8b07ca6d2ae7",
        "colab": {
          "base_uri": "https://localhost:8080/"
        }
      },
      "source": [
        "cloth=int(input(\"請輸入上衣數量?\"))"
      ],
      "execution_count": null,
      "outputs": [
        {
          "output_type": "stream",
          "text": [
            "請輸入上衣數量?20\n"
          ],
          "name": "stdout"
        }
      ]
    },
    {
      "cell_type": "code",
      "metadata": {
        "id": "Vd0ZescSmcrU",
        "outputId": "37c72103-0ba8-4262-dcc3-428a91551c36",
        "colab": {
          "base_uri": "https://localhost:8080/"
        }
      },
      "source": [
        "trousers=int(input(\"請輸入褲子數量?\"))"
      ],
      "execution_count": null,
      "outputs": [
        {
          "output_type": "stream",
          "text": [
            "請輸入褲子數量?10\n"
          ],
          "name": "stdout"
        }
      ]
    },
    {
      "cell_type": "code",
      "metadata": {
        "id": "4miOZtQ4mrql",
        "outputId": "6acc108a-409b-4ee5-e207-c3db7ef2e80d",
        "colab": {
          "base_uri": "https://localhost:8080/"
        }
      },
      "source": [
        "vest=int(input(\"請輸入背心數量\"))"
      ],
      "execution_count": null,
      "outputs": [
        {
          "output_type": "stream",
          "text": [
            "請輸入背心數量10\n"
          ],
          "name": "stdout"
        }
      ]
    },
    {
      "cell_type": "code",
      "metadata": {
        "id": "Gd_YzrN_m76N",
        "outputId": "214ecacb-f725-4146-af83-2971c8417347",
        "colab": {
          "base_uri": "https://localhost:8080/"
        }
      },
      "source": [
        "total=cloth*20+trousers*10+vest*10\n",
        "print(\"訂購服裝的總金額\",total)\n"
      ],
      "execution_count": null,
      "outputs": [
        {
          "output_type": "stream",
          "text": [
            "訂購服裝的總金額 600\n"
          ],
          "name": "stdout"
        }
      ]
    }
  ]
}