{
  "nbformat": 4,
  "nbformat_minor": 0,
  "metadata": {
    "colab": {
      "name": "Untitled2.ipynb 10week1",
      "provenance": [],
      "authorship_tag": "ABX9TyMT5mHMmS8JH6PR/yOBwPNs",
      "include_colab_link": true
    },
    "kernelspec": {
      "name": "python3",
      "display_name": "Python 3"
    }
  },
  "cells": [
    {
      "cell_type": "markdown",
      "metadata": {
        "id": "view-in-github",
        "colab_type": "text"
      },
      "source": [
        "<a href=\"https://colab.research.google.com/github/vic109260021/compytational-Tinking/blob/master/Untitled2_ipynb_10week1.ipynb\" target=\"_parent\"><img src=\"https://colab.research.google.com/assets/colab-badge.svg\" alt=\"Open In Colab\"/></a>"
      ]
    },
    {
      "cell_type": "code",
      "metadata": {
        "colab": {
          "base_uri": "https://localhost:8080/"
        },
        "id": "NNl7QrlmQbYX",
        "outputId": "092c069a-2b88-46ac-ec12-65b2076d8e99"
      },
      "source": [
        "movie_title=\"E.T.\"\n",
        "release_year=\"1982\"\n",
        "movie_time_min=\"114\"\n",
        "director=\"Steve_Allen_Spielberg\"\n",
        "movie_rating=\"7.8\"\n",
        "print(\"電影名稱\",movie_title)\n",
        "print(\"上映時間\",release_year)\n",
        "print(\"電影時間\",movie_time_min)\n",
        "print(\"導演\",director)\n",
        "print(\"電影評分\",movie_rating)"
      ],
      "execution_count": null,
      "outputs": [
        {
          "output_type": "stream",
          "text": [
            "電影名稱 E.T.\n",
            "上映時間 1982\n",
            "電影時間 114\n",
            "導演 Steve_Allen_Spielberg\n",
            "電影評分 7.8\n"
          ],
          "name": "stdout"
        }
      ]
    },
    {
      "cell_type": "code",
      "metadata": {
        "id": "ApWtwjvDbHBm"
      },
      "source": [
        ""
      ],
      "execution_count": null,
      "outputs": []
    }
  ]
}