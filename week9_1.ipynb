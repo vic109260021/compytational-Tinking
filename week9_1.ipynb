{
  "nbformat": 4,
  "nbformat_minor": 0,
  "metadata": {
    "colab": {
      "name": "week9-1",
      "provenance": [],
      "authorship_tag": "ABX9TyMhOCxJnAYsmR5weVhOrbl6",
      "include_colab_link": true
    },
    "kernelspec": {
      "name": "python3",
      "display_name": "Python 3"
    }
  },
  "cells": [
    {
      "cell_type": "markdown",
      "metadata": {
        "id": "view-in-github",
        "colab_type": "text"
      },
      "source": [
        "<a href=\"https://colab.research.google.com/github/vic109260021/compytational-Tinking/blob/master/week9_1.ipynb\" target=\"_parent\"><img src=\"https://colab.research.google.com/assets/colab-badge.svg\" alt=\"Open In Colab\"/></a>"
      ]
    },
    {
      "cell_type": "code",
      "metadata": {
        "id": "uRJPwAsEh6Qo",
        "outputId": "ca0a6ad3-1ceb-4faf-ab2f-29281c29087e",
        "colab": {
          "base_uri": "https://localhost:8080/"
        }
      },
      "source": [
        "fir=int(input(\"請輸入第一次期中考成績?\"))\n"
      ],
      "execution_count": 24,
      "outputs": [
        {
          "output_type": "stream",
          "text": [
            "請輸入第一次期中考成績?75\n"
          ],
          "name": "stdout"
        }
      ]
    },
    {
      "cell_type": "code",
      "metadata": {
        "id": "xj6kUdz4h-a1",
        "outputId": "c03d3245-85c3-4188-d575-4e0f369cce3b",
        "colab": {
          "base_uri": "https://localhost:8080/"
        }
      },
      "source": [
        "sec=int(input(\"請輸入第二次期中考成績?\"))\n"
      ],
      "execution_count": 25,
      "outputs": [
        {
          "output_type": "stream",
          "text": [
            "請輸入第二次期中考成績?80\n"
          ],
          "name": "stdout"
        }
      ]
    },
    {
      "cell_type": "code",
      "metadata": {
        "id": "uD782epLiGQR",
        "outputId": "12c43217-338a-4d44-c011-401fa21b0327",
        "colab": {
          "base_uri": "https://localhost:8080/"
        }
      },
      "source": [
        "final=int(input(\"請輸入期末考成績?\"))"
      ],
      "execution_count": 26,
      "outputs": [
        {
          "output_type": "stream",
          "text": [
            "請輸入期末考成績?65\n"
          ],
          "name": "stdout"
        }
      ]
    },
    {
      "cell_type": "code",
      "metadata": {
        "id": "ez_DVuMpiPC9"
      },
      "source": [
        "total= fir + sec + final"
      ],
      "execution_count": 34,
      "outputs": []
    },
    {
      "cell_type": "code",
      "metadata": {
        "id": "cbIXNleDiXQi"
      },
      "source": [
        "average= total/3"
      ],
      "execution_count": 36,
      "outputs": []
    },
    {
      "cell_type": "code",
      "metadata": {
        "id": "vGAVWjvmidve",
        "outputId": "46bdd19d-87a9-42ba-83c4-5d93e8be82d1",
        "colab": {
          "base_uri": "https://localhost:8080/",
          "height": 131
        }
      },
      "source": [
        "print(\"總分\",total,\"平均為\"average)"
      ],
      "execution_count": 39,
      "outputs": [
        {
          "output_type": "error",
          "ename": "SyntaxError",
          "evalue": "ignored",
          "traceback": [
            "\u001b[0;36m  File \u001b[0;32m\"<ipython-input-39-079ab1ed17c4>\"\u001b[0;36m, line \u001b[0;32m1\u001b[0m\n\u001b[0;31m    print(\"總分\",total,\"平均為\"average)\u001b[0m\n\u001b[0m                                ^\u001b[0m\n\u001b[0;31mSyntaxError\u001b[0m\u001b[0;31m:\u001b[0m invalid syntax\n"
          ]
        }
      ]
    }
  ]
}