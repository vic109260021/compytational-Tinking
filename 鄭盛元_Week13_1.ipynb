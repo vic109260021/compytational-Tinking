{
  "nbformat": 4,
  "nbformat_minor": 0,
  "metadata": {
    "colab": {
      "name": "鄭盛元 Week13.1",
      "provenance": [],
      "authorship_tag": "ABX9TyO56/A2I8xAZF8jm4dHgqu+",
      "include_colab_link": true
    },
    "kernelspec": {
      "name": "python3",
      "display_name": "Python 3"
    }
  },
  "cells": [
    {
      "cell_type": "markdown",
      "metadata": {
        "id": "view-in-github",
        "colab_type": "text"
      },
      "source": [
        "<a href=\"https://colab.research.google.com/github/vic109260021/compytational-Tinking/blob/master/%E9%84%AD%E7%9B%9B%E5%85%83_Week13_1.ipynb\" target=\"_parent\"><img src=\"https://colab.research.google.com/assets/colab-badge.svg\" alt=\"Open In Colab\"/></a>"
      ]
    },
    {
      "cell_type": "code",
      "metadata": {
        "colab": {
          "base_uri": "https://localhost:8080/"
        },
        "id": "5tnw2qjmjuNv",
        "outputId": "c5ab9606-a4f1-4608-94b2-254c8b0d9c11"
      },
      "source": [
        "for i in range(0,5,1):\r\n",
        "  print(\"Hello\")"
      ],
      "execution_count": 2,
      "outputs": [
        {
          "output_type": "stream",
          "text": [
            "Hello\n",
            "Hello\n",
            "Hello\n",
            "Hello\n",
            "Hello\n"
          ],
          "name": "stdout"
        }
      ]
    },
    {
      "cell_type": "code",
      "metadata": {
        "colab": {
          "base_uri": "https://localhost:8080/"
        },
        "id": "2_kgKfcDlFSQ",
        "outputId": "79fb31e8-762b-4d3f-e9b6-77ee415c92cd"
      },
      "source": [
        "for i in range(100,90,-3):\r\n",
        " print(i)"
      ],
      "execution_count": 7,
      "outputs": [
        {
          "output_type": "stream",
          "text": [
            "100\n",
            "97\n",
            "94\n",
            "91\n"
          ],
          "name": "stdout"
        }
      ]
    },
    {
      "cell_type": "code",
      "metadata": {
        "colab": {
          "base_uri": "https://localhost:8080/"
        },
        "id": "oFrqxrhjliYo",
        "outputId": "527a027d-2f04-46fa-ba04-5ad3da3aa019"
      },
      "source": [
        "sum=0\r\n",
        "for i in range(1,11,1):\r\n",
        " sum=sum + i\r\n",
        "print(\"Total is\",sum)"
      ],
      "execution_count": 11,
      "outputs": [
        {
          "output_type": "stream",
          "text": [
            "Total is 55\n"
          ],
          "name": "stdout"
        }
      ]
    },
    {
      "cell_type": "code",
      "metadata": {
        "colab": {
          "base_uri": "https://localhost:8080/"
        },
        "id": "jUBcOVdLq-DA",
        "outputId": "b31c1c18-cc80-4e50-abd2-1901df32c0f3"
      },
      "source": [
        "sum=0\r\n",
        "for i in range(2,11,2):\r\n",
        " sum=sum + i\r\n",
        "print(\"Total is\",sum)"
      ],
      "execution_count": 19,
      "outputs": [
        {
          "output_type": "stream",
          "text": [
            "Total is 30\n"
          ],
          "name": "stdout"
        }
      ]
    },
    {
      "cell_type": "code",
      "metadata": {
        "colab": {
          "base_uri": "https://localhost:8080/"
        },
        "id": "dujoa4r7sZDR",
        "outputId": "958c5bf2-9f38-4afa-ee76-f6b48124f865"
      },
      "source": [
        "sum=0\r\n",
        "for i in range(3,13,3):\r\n",
        " sum=sum + i\r\n",
        "print(\"Total is\",sum)"
      ],
      "execution_count": 22,
      "outputs": [
        {
          "output_type": "stream",
          "text": [
            "Total is 30\n"
          ],
          "name": "stdout"
        }
      ]
    },
    {
      "cell_type": "code",
      "metadata": {
        "colab": {
          "base_uri": "https://localhost:8080/"
        },
        "id": "olDrjxCvui9_",
        "outputId": "21a9cb92-ec5c-47ce-8de2-6760d0efbd3f"
      },
      "source": [
        "start=int(input('請輸入加總開始值?'))\r\n",
        "end=int(input('請輸入加總終止值?'))\r\n",
        "step=int(input('請輸入遞增減值?'))\r\n",
        "for i in range(start, end, step):\r\n",
        " sum=sum + i \r\n",
        "print('i為', i, '時,累加結果為', sum)"
      ],
      "execution_count": 34,
      "outputs": [
        {
          "output_type": "stream",
          "text": [
            "請輸入加總開始值?2\n",
            "請輸入加總終止值?10\n",
            "請輸入遞增減值?1\n",
            "i為 9 時,累加結果為 118\n"
          ],
          "name": "stdout"
        }
      ]
    },
    {
      "cell_type": "code",
      "metadata": {
        "colab": {
          "base_uri": "https://localhost:8080/"
        },
        "id": "d1KuhqB-yrq5",
        "outputId": "e426534f-0cb3-4797-bcfb-988fa2b0c3cd"
      },
      "source": [
        "n = int(input(\"請輸入n值\"))\r\n",
        "sum=0\r\n",
        "for i in range(1,n+1):\r\n",
        " sum=sum + i*i\r\n",
        "print(\"Total is\",sum)"
      ],
      "execution_count": 40,
      "outputs": [
        {
          "output_type": "stream",
          "text": [
            "請輸入n值5\n",
            "Total is 55\n"
          ],
          "name": "stdout"
        }
      ]
    }
  ]
}