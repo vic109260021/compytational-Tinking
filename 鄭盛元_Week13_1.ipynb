{
  "nbformat": 4,
  "nbformat_minor": 0,
  "metadata": {
    "colab": {
      "name": "鄭盛元 Week13.1",
      "provenance": [],
      "authorship_tag": "ABX9TyO1BeutxxSjKdJOR0r3ZPb6",
      "include_colab_link": true
    },
    "kernelspec": {
      "name": "python3",
      "display_name": "Python 3"
    }
  },
  "cells": [
    {
      "cell_type": "markdown",
      "metadata": {
        "id": "view-in-github",
        "colab_type": "text"
      },
      "source": [
        "<a href=\"https://colab.research.google.com/github/vic109260021/compytational-Tinking/blob/master/%E9%84%AD%E7%9B%9B%E5%85%83_Week13_1.ipynb\" target=\"_parent\"><img src=\"https://colab.research.google.com/assets/colab-badge.svg\" alt=\"Open In Colab\"/></a>"
      ]
    },
    {
      "cell_type": "code",
      "metadata": {
        "colab": {
          "base_uri": "https://localhost:8080/"
        },
        "id": "5tnw2qjmjuNv",
        "outputId": "8153881c-9d52-4ccf-aa2a-96fdb7c5a9b2"
      },
      "source": [
        "for i in range(0,5,1):\r\n",
        "  print(\"Hello\")"
      ],
      "execution_count": 1,
      "outputs": [
        {
          "output_type": "stream",
          "text": [
            "Hello\n",
            "Hello\n",
            "Hello\n",
            "Hello\n",
            "Hello\n"
          ],
          "name": "stdout"
        }
      ]
    }
  ]
}