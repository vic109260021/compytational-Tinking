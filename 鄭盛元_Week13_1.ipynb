{
  "nbformat": 4,
  "nbformat_minor": 0,
  "metadata": {
    "colab": {
      "name": "鄭盛元 Week13.1",
      "provenance": [],
      "authorship_tag": "ABX9TyNtJYw7QKgUi+bOEWFdJfhm",
      "include_colab_link": true
    },
    "kernelspec": {
      "name": "python3",
      "display_name": "Python 3"
    }
  },
  "cells": [
    {
      "cell_type": "markdown",
      "metadata": {
        "id": "view-in-github",
        "colab_type": "text"
      },
      "source": [
        "<a href=\"https://colab.research.google.com/github/vic109260021/compytational-Tinking/blob/master/%E9%84%AD%E7%9B%9B%E5%85%83_Week13_1.ipynb\" target=\"_parent\"><img src=\"https://colab.research.google.com/assets/colab-badge.svg\" alt=\"Open In Colab\"/></a>"
      ]
    },
    {
      "cell_type": "code",
      "metadata": {
        "colab": {
          "base_uri": "https://localhost:8080/"
        },
        "id": "5tnw2qjmjuNv",
        "outputId": "c5ab9606-a4f1-4608-94b2-254c8b0d9c11"
      },
      "source": [
        "for i in range(0,5,1):\r\n",
        "  print(\"Hello\")"
      ],
      "execution_count": 2,
      "outputs": [
        {
          "output_type": "stream",
          "text": [
            "Hello\n",
            "Hello\n",
            "Hello\n",
            "Hello\n",
            "Hello\n"
          ],
          "name": "stdout"
        }
      ]
    },
    {
      "cell_type": "code",
      "metadata": {
        "colab": {
          "base_uri": "https://localhost:8080/"
        },
        "id": "2_kgKfcDlFSQ",
        "outputId": "79fb31e8-762b-4d3f-e9b6-77ee415c92cd"
      },
      "source": [
        "for i in range(100,90,-3):\r\n",
        " print(i)"
      ],
      "execution_count": 7,
      "outputs": [
        {
          "output_type": "stream",
          "text": [
            "100\n",
            "97\n",
            "94\n",
            "91\n"
          ],
          "name": "stdout"
        }
      ]
    },
    {
      "cell_type": "code",
      "metadata": {
        "colab": {
          "base_uri": "https://localhost:8080/"
        },
        "id": "oFrqxrhjliYo",
        "outputId": "527a027d-2f04-46fa-ba04-5ad3da3aa019"
      },
      "source": [
        "sum=0\r\n",
        "for i in range(1,11,1):\r\n",
        " sum=sum + i\r\n",
        "print(\"Total is\",sum)"
      ],
      "execution_count": 11,
      "outputs": [
        {
          "output_type": "stream",
          "text": [
            "Total is 55\n"
          ],
          "name": "stdout"
        }
      ]
    },
    {
      "cell_type": "code",
      "metadata": {
        "colab": {
          "base_uri": "https://localhost:8080/"
        },
        "id": "jUBcOVdLq-DA",
        "outputId": "b31c1c18-cc80-4e50-abd2-1901df32c0f3"
      },
      "source": [
        "sum=0\r\n",
        "for i in range(2,11,2):\r\n",
        " sum=sum + i\r\n",
        "print(\"Total is\",sum)"
      ],
      "execution_count": 19,
      "outputs": [
        {
          "output_type": "stream",
          "text": [
            "Total is 30\n"
          ],
          "name": "stdout"
        }
      ]
    },
    {
      "cell_type": "code",
      "metadata": {
        "colab": {
          "base_uri": "https://localhost:8080/"
        },
        "id": "dujoa4r7sZDR",
        "outputId": "bec46605-4408-4a6b-b65b-ad4a1f90ce9f"
      },
      "source": [
        "sum=0\r\n",
        "for i in range(3,13,3):\r\n",
        " sum=sum + i\r\n",
        "print(\"Total is\",sum)"
      ],
      "execution_count": 21,
      "outputs": [
        {
          "output_type": "stream",
          "text": [
            "Total is 30\n"
          ],
          "name": "stdout"
        }
      ]
    }
  ]
}