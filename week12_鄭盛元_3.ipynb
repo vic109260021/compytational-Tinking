{
  "nbformat": 4,
  "nbformat_minor": 0,
  "metadata": {
    "colab": {
      "name": "week12 鄭盛元.3",
      "provenance": [],
      "authorship_tag": "ABX9TyPyaCycQdpxZHpCwzDXxpRq",
      "include_colab_link": true
    },
    "kernelspec": {
      "name": "python3",
      "display_name": "Python 3"
    }
  },
  "cells": [
    {
      "cell_type": "markdown",
      "metadata": {
        "id": "view-in-github",
        "colab_type": "text"
      },
      "source": [
        "<a href=\"https://colab.research.google.com/github/vic109260021/compytational-Tinking/blob/master/week12_%E9%84%AD%E7%9B%9B%E5%85%83_3.ipynb\" target=\"_parent\"><img src=\"https://colab.research.google.com/assets/colab-badge.svg\" alt=\"Open In Colab\"/></a>"
      ]
    },
    {
      "cell_type": "code",
      "metadata": {
        "colab": {
          "base_uri": "https://localhost:8080/"
        },
        "id": "d6hgD2c1c2C1",
        "outputId": "070a9664-1933-4aed-84f6-f0f797b9e940"
      },
      "source": [
        "a=range(0,10,1) \n",
        "print(a)\n",
        "print(a[0],a[1],a[2],a[3],a[4],a[5],a[6],a[7],a[8],a[9])\n",
        "\n",
        "b=range(0,18,2)\n",
        "print(b)\n",
        "print(b[0],b[1],b[2],b[3],b[4])\n",
        "\n",
        "c=range(5,20,2)\n",
        "print(c)\n",
        "print(c[0],c[1],c[2])\n",
        "\n",
        "d=range(0,-20,-1)\n",
        "print(d)\n",
        "print(d[0],d[1],d[2],d[3],d[4],d[5],d[6],d[7],d[8],d[9])\n",
        "\n"
      ],
      "execution_count": 47,
      "outputs": [
        {
          "output_type": "stream",
          "text": [
            "range(0, 10)\n",
            "0 1 2 3 4 5 6 7 8 9\n",
            "range(0, 18, 2)\n",
            "0 2 4 6 8\n",
            "range(5, 20, 2)\n",
            "5 7 9\n",
            "range(0, -20, -1)\n",
            "0 -1 -2 -3 -4 -5 -6 -7 -8 -9\n"
          ],
          "name": "stdout"
        }
      ]
    },
    {
      "cell_type": "code",
      "metadata": {
        "id": "NAosQtocv6JI"
      },
      "source": [
        ""
      ],
      "execution_count": null,
      "outputs": []
    }
  ]
}