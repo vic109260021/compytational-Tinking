{
  "nbformat": 4,
  "nbformat_minor": 0,
  "metadata": {
    "colab": {
      "name": "week9-1.1",
      "provenance": [],
      "authorship_tag": "ABX9TyPG0JfgxPYiLsurU91wcykf",
      "include_colab_link": true
    },
    "kernelspec": {
      "name": "python3",
      "display_name": "Python 3"
    }
  },
  "cells": [
    {
      "cell_type": "markdown",
      "metadata": {
        "id": "view-in-github",
        "colab_type": "text"
      },
      "source": [
        "<a href=\"https://colab.research.google.com/github/vic109260021/compytational-Tinking/blob/master/week9_1_1.ipynb\" target=\"_parent\"><img src=\"https://colab.research.google.com/assets/colab-badge.svg\" alt=\"Open In Colab\"/></a>"
      ]
    },
    {
      "cell_type": "code",
      "metadata": {
        "id": "6JqaXLN4mOY-",
        "outputId": "d024799b-584a-4d08-8207-e7a04f872456",
        "colab": {
          "base_uri": "https://localhost:8080/"
        }
      },
      "source": [
        "cloth=int(input(\"請輸入上衣數量?\"))\n"
      ],
      "execution_count": 40,
      "outputs": [
        {
          "output_type": "stream",
          "text": [
            "請輸入上衣數量?20\n"
          ],
          "name": "stdout"
        }
      ]
    },
    {
      "cell_type": "code",
      "metadata": {
        "id": "hofsfO-3mTki",
        "outputId": "9b79d782-5afc-4179-f1f0-c347982c93ac",
        "colab": {
          "base_uri": "https://localhost:8080/"
        }
      },
      "source": [
        "trousers=int(input(\"請輸入褲子數量?\"))"
      ],
      "execution_count": 41,
      "outputs": [
        {
          "output_type": "stream",
          "text": [
            "請輸入褲子數量?10\n"
          ],
          "name": "stdout"
        }
      ]
    },
    {
      "cell_type": "code",
      "metadata": {
        "id": "HP6x0V59mZW2",
        "outputId": "1010e5e2-4990-4a7e-b182-69f82c2942fc",
        "colab": {
          "base_uri": "https://localhost:8080/"
        }
      },
      "source": [
        "vest=int(input(\"請輸入背心數量\"))\n"
      ],
      "execution_count": 42,
      "outputs": [
        {
          "output_type": "stream",
          "text": [
            "請輸入背心數量10\n"
          ],
          "name": "stdout"
        }
      ]
    },
    {
      "cell_type": "code",
      "metadata": {
        "id": "SvEsa5Efmfx0",
        "outputId": "2a44f8c4-65e7-4ae6-ca04-bb65b55636a6",
        "colab": {
          "base_uri": "https://localhost:8080/"
        }
      },
      "source": [
        "total=cloth*20+trousers*10+vest*10\n",
        "print(\"訂購服裝的總金額\",total)\n"
      ],
      "execution_count": 43,
      "outputs": [
        {
          "output_type": "stream",
          "text": [
            "訂購服裝的總金額 600\n"
          ],
          "name": "stdout"
        }
      ]
    }
  ]
}