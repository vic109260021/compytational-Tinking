{
  "nbformat": 4,
  "nbformat_minor": 0,
  "metadata": {
    "colab": {
      "name": "期末報告 鄭盛元A109260021",
      "provenance": [],
      "authorship_tag": "ABX9TyMOTBgFobNb2DubCWlEpWCu",
      "include_colab_link": true
    },
    "kernelspec": {
      "name": "python3",
      "display_name": "Python 3"
    }
  },
  "cells": [
    {
      "cell_type": "markdown",
      "metadata": {
        "id": "view-in-github",
        "colab_type": "text"
      },
      "source": [
        "<a href=\"https://colab.research.google.com/github/vic109260021/compytational-Tinking/blob/master/%E6%9C%9F%E6%9C%AB%E5%A0%B1%E5%91%8A_%E9%84%AD%E7%9B%9B%E5%85%83A109260021.ipynb\" target=\"_parent\"><img src=\"https://colab.research.google.com/assets/colab-badge.svg\" alt=\"Open In Colab\"/></a>"
      ]
    },
    {
      "cell_type": "markdown",
      "metadata": {
        "id": "lrgitIG31A-B"
      },
      "source": [
        ""
      ]
    },
    {
      "cell_type": "markdown",
      "metadata": {
        "id": "2XuNyik30Fl8"
      },
      "source": [
        "#成員\r\n",
        "鄭盛元A109260021\r\n",
        "孫楊凱A109260055\r\n",
        "徐緯鳴A109260053\r\n",
        "林氶哲A109260101\r\n",
        "林威廷A109260061\r\n",
        "謝易璋A109260095\r\n",
        "李林宏A1092600290\r\n",
        "\r\n",
        "#分工\r\n",
        "吃甚麼:鄭盛元\r\n",
        "怎麼去:孫楊凱\r\n",
        "去哪玩:徐緯鳴\r\n",
        "門票優惠:林氶哲\r\n",
        "遊樂場設施選項:林威廷\r\n",
        "結束以後下次約是甚麼時候:謝易璋\r\n",
        "大家要怎麼回家:李林宏\r\n",
        "#腳本\r\n",
        "一群朋友相約出去玩，在討論的時候碰到許多問題，諸如要不要吃早餐？吃什麼和要去哪裡玩跟花費的問題，之後到遊樂園時還有門票跟要玩什麼遊樂設施最後是回家的問題"
      ]
    },
    {
      "cell_type": "code",
      "metadata": {
        "id": "imDNUKRx2a2Z"
      },
      "source": [
        "#鄭盛元\r\n",
        "mood=input(\"嗨囉!好久不見.最近過得好嗎?\")\r\n",
        "print(\"真的嘛?那我們應該多出來聚聚的\")\r\n",
        "breakfast = int(input(\"肚子好餓喔!要不要吃早餐啊?餓的程度1~10你打幾分\"))\r\n",
        "if breakfast>=5:\r\n",
        "  print(\"最近有新開的中式早餐诶!要去吃看看嗎?\")\r\n",
        "if breakfast<5:\r\n",
        "  print(\"不管.我餓了!我們去吃早餐拉!\")  \r\n",
        "menudrink=[\"可樂,奶茶,紅茶,咖啡\"]  \r\n",
        "menumeals=[\"1號餐,2號餐,3號餐\"]\r\n",
        "Waiter = int(input(\"請問你們幾位呢?\"))\r\n",
        "print(\"這邊請坐,等下會有人為您服務\")\r\n",
        "print(\"他們有什麼吃得跟喝的阿?\")\r\n",
        "print(\"我們吃的有\",menumeals)\r\n",
        "print(\"我們喝的有\",menudrink)\r\n",
        "drink= int(input(\"請問妳們要喝什麼呢?\"))\r\n",
        "tastydrink=[\"可樂\",\"奶茶\",\"紅茶\"]\r\n",
        "for i in tastydrink:\r\n",
        "  print(\"我想點\",i)\r\n",
        "meals= int(input(\"那你們要吃幾號餐呢?\"))\r\n",
        "if meals==1:\r\n",
        "  A=50\r\n",
        "  for i in range(0,2,1):\r\n",
        "    print(\"真巧,我也想吃這個\")\r\n",
        "else:\r\n",
        "  A=60\r\n",
        "  print(\"蛤,我比較想吃1號餐\")  \r\n",
        "  for i in range(0,2,1):\r\n",
        "       print(\"我也是\")\r\n",
        "total=A+190       \r\n",
        "print(\"好的,一共是\",total)\r\n",
        "print(\"謝謝光臨,歡迎下次再來\")"
      ],
      "execution_count": null,
      "outputs": []
    },
    {
      "cell_type": "code",
      "metadata": {
        "id": "ipRFc_Lt3YRj"
      },
      "source": [
        "#孫揚凱\r\n",
        "print(\"鴨子：ㄟㄟ, 哥, 我們等等要怎麼去遊樂園玩？\")\r\n",
        "list1=(\"'坐捷運', '坐計程車', '走路', 'Ubike'?\")\r\n",
        "print(\"要怎麼去？\",  ' ')\r\n",
        "print(list1)\r\n",
        "怎麼去 = int(input(\"要怎麼去呢?, 0坐捷運 1坐計程車 2走路 3Ubike\"))\r\n",
        "if 怎麼去==0:\r\n",
        "  print(\"好鴨, 哪次不坐\")\r\n",
        "if 怎麼去==1:\r\n",
        "  print(\"好貴喔, 我們坐捷運好了\")\r\n",
        "if 怎麼去==2: \r\n",
        "  print(\"你走給我看啊XD,我在那邊等你\")\r\n",
        "if 怎麼去==3:\r\n",
        "  print(\"走啊!!,喔,是騎鴨\")\r\n",
        "  print(\"騎鴨ww\")\r\n",
        "print(\"哲哥：ㄟ不對,我們還沒決定要去哪玩啊XD\")"
      ],
      "execution_count": null,
      "outputs": []
    },
    {
      "cell_type": "code",
      "metadata": {
        "id": "Gmcr-ByA3fuN"
      },
      "source": [
        "#徐緯鳴\r\n",
        "stroke = int(input(\"大家都吃完了吧, 接下來去哪? 1是電影院 2是遊樂場 3是網咖 4是逛街選哪個?\"))\r\n",
        "if stroke==1: \r\n",
        "  print(\"可是最近都沒有什麼電影好看, 要不然去遊樂場怎麼樣?\")\r\n",
        "if stroke==2:\r\n",
        "  print(\"我覺得不錯\")\r\n",
        "if stroke==3:\r\n",
        "  print(\"家裡就有電腦了,幹嘛去網咖。我比較想要去遊樂園\")\r\n",
        "if stroke==4:\r\n",
        "  print(\"逛街太花錢了,要不然去遊樂場怎麼樣?\")\r\n",
        "print(\"那你們帶多少錢?\")\r\n",
        "print(\"我只帶了100\")\r\n",
        "金額 = [\"哲哥:我帶100\", \"VIC:我帶500\", \"鴨子:我帶300\", \"Leo:我帶0元\"]\r\n",
        "for i in 金額:\r\n",
        "  print(i)\r\n",
        "print(\"我們今天會花公車錢、早餐錢和票錢\")\r\n",
        "早餐 = float(input(\"早餐: \"))\r\n",
        "車錢 = float(input(\"車錢: \"))\r\n",
        "票價 = float(input(\"票價: \"))\r\n",
        "total = 早餐+車錢+票價\r\n",
        "print(total/7)\r\n",
        "print(\"今天費用一個人大概100\")\r\n",
        "help = input(\"Leo你錢夠嗎？夠 or 不夠\")\r\n",
        "borrow = input(\"你要跟鄭勝元借嗎？好 or 不好\")\r\n",
        "if help == \"不夠\":\r\n",
        "  if borrow == \"好\":\r\n",
        "    print(\"Leo:謝了元哥\")"
      ],
      "execution_count": null,
      "outputs": []
    },
    {
      "cell_type": "code",
      "metadata": {
        "id": "CghIquxC3nKh"
      },
      "source": [
        "#林氶哲\r\n",
        "print(\"Hi welcome to shu amusement park how can i help you?\")\r\n",
        "print(\"I need to buy tickets.\")\r\n",
        "list1 = [\"Adults: $150\",\"Students: $120\",\"Childern: $80\",\"Kids: $40\"]\r\n",
        "list2 = [\"Coke: $50\",\"Sprite: $50\",\"Hot Dog: $45\"]\r\n",
        "print(\"Okay so here is our list or all the ticket price and the discount\",list1)\r\n",
        "print(\"Just in case you need something to eat or to drink\", list2)\r\n",
        "adult = int(input(\"I want adult tickets for \"))\r\n",
        "student = int(input(\"I want student tickets for \"))\r\n",
        "children = int(input(\"I want children tickets for \"))\r\n",
        "kids = int(input(\"I want kids tickets for \"))\r\n",
        "print(\"You need anything else?\")\r\n",
        "coke = int(input(\"I want \")) \r\n",
        "print(\" cups of coke.\")\r\n",
        "sprite = int(input(\"I want \"))\r\n",
        "print(\" cups of sprite.\")\r\n",
        "hotdog = int(input(\"I want \"))\r\n",
        "print(\" hot dogs.\")\r\n",
        "import math\r\n",
        "total = adult*150 + student*120 + children*80 + kids*40 + coke*50 + sprite*50 + hotdog*45\r\n",
        "if (total>400) and (total<=650):\r\n",
        "  print(\"Okay so your total will be \", math.ceil(total*0.9*10)/10.0, \".\")\r\n",
        "elif (total>650) and (total<=900):\r\n",
        "  print(\"Okay so your total amount will be \", math.ceil(total*0.85*10)/10.0, \".\")\r\n",
        "elif (total>900) and (total<=1150):\r\n",
        "  print(\"Okay so your total amount will be \", (total*0.8*10)/10.0, \".\")\r\n",
        "elif total>1150:\r\n",
        "  print(\"Okay so your total amount will  be \", math.ceil(total*0.75*10)/10.0, \".\")\r\n",
        "else:\r\n",
        "  print(\"Okay so your total amount will be \", total, \".\")\r\n",
        "print(\"Card or cash?\")\r\n",
        "print(\"Card, please.\")\r\n",
        "print(\"Have a nice day!\")\r\n",
        "print(\"Yeah you too.\")"
      ],
      "execution_count": null,
      "outputs": []
    },
    {
      "cell_type": "code",
      "metadata": {
        "id": "ZCq6u5xJ4AIw"
      },
      "source": [
        "#林威廷\r\n",
        "print(\"威哥:欸,到了遊樂園想玩些啥啊?\")\r\n",
        "list1=(\"'海盜船','雲霄飛車',大怒神還是鬼屋'?\")\r\n",
        "print(\"玩啥呢?\")\r\n",
        "print(list1)\r\n",
        "玩啥呢=int(input(\"玩啥呢?,0海盜船 1雲霄飛車 2大怒神 3鬼屋 \"))\r\n",
        "if 玩啥呢==0:\r\n",
        "  print(\"ok,走\")\r\n",
        "if 玩啥呢==1:\r\n",
        "  print(\"ok,走\")\r\n",
        "if 玩啥呢==2:\r\n",
        "  print(\"ok,走\")\r\n",
        "if 玩啥呢==3:\r\n",
        "  print(\"ok,走\")\r\n",
        "print(\"緯鳴:可是我比較想玩旋轉木馬欸,那個才夠驚險刺激\")\r\n",
        "print(\"盛元:就是說啊,摩天輪也行,男人就是要玩那種的\")\r\n",
        "print(\"哲哥:蛤?供三小\")\r\n",
        "print(\"孔雀王李林宏:比起玩遊樂園,我比較想幹野獸欸\")\r\n",
        "print(\"鴨哥:幹哪種野獸都行,就是不准幹鴨子\")\r\n",
        "print(\"易璋:哈哈哈 笑死\")"
      ],
      "execution_count": null,
      "outputs": []
    },
    {
      "cell_type": "code",
      "metadata": {
        "id": "0IaQN1Gv4luM"
      },
      "source": [
        "#謝易璋\r\n",
        "print(\"今天真好玩, 可惜快樂的時光總是稍縱即逝\")\r\n",
        "print(\"鴨哥:沒關係啊, 我們之後可以再約啊\")\r\n",
        "list1 = ('那週末吧','寒假吧')\r\n",
        "print (\"我:好啊,剛才那個害鴨哥落水的急流泛舟我也想再玩一次, 那要什麼時候?段考完的週末嗎?還是寒假?\")\r\n",
        "print(list1)\r\n",
        "date = int(input(\"1那週末吧 ,2寒假吧 \"))\r\n",
        "if date == 1:\r\n",
        "  print(\"哲哥:可是我已經跟女朋友約好那天要去北海道滑雪了欸\")\r\n",
        "  print(\"其他組員:....\")\r\n",
        "  print(\"我:那..那就寒假的時候吧?!大家的時間也比較好喬?!\")\r\n",
        "print(\"其他組員:好啊?!\")\r\n",
        "if date == 2:\r\n",
        "  print(\"鴨哥:好啊, 寒假的時候我也都待在台北\")\r\n",
        "  print(\"哲哥:好啊,我寒假也比較方便\")\r\n",
        "  print(\"那詳細的日期就那時候再約吧\")\r\n",
        "print(\"所有人:好啊\")"
      ],
      "execution_count": null,
      "outputs": []
    },
    {
      "cell_type": "code",
      "metadata": {
        "id": "41i8fBpX4ozN"
      },
      "source": [
        "#李林宏\r\n",
        "end = int(input(\"那麼各位要怎麼回家呢? 1是搭公車 2是騎車 3是搭捷運\"))\r\n",
        "if end == 1:\r\n",
        "  print(\"假如是要搭到景美的話, 要不要一起走?\")\r\n",
        "  print(\"好啊好啊\")\r\n",
        "if end == 2:\r\n",
        "  print(\"載我拜託, 到景美捷運站就好\")\r\n",
        "  print(\"好啦安全帽戴上\")\r\n",
        "if end == 3:\r\n",
        "  print(\"喔好吧, 再見\")\r\n",
        "  print(\"886\")"
      ],
      "execution_count": null,
      "outputs": []
    }
  ]
}